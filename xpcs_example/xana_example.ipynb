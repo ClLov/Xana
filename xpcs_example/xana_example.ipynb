from Xana import Xana
import numpy as np

d = Xana(fmtstr='id10_eiger_single_edf', # format string that defines how the date are read
         sample='100nm SiO2 particles in glycerol', # optional: sample name used in data base
         maskfile='./masks/mask_structure_03.npy',
         detector='Eiger500k') # file that conatains the blemish / mask 
                                                   # (optional: but necessary for analysis)

d.connect('./dukes100nm_glycerol/xpcs/exp320us_att0/')
print(d.meta)

data = d.get_series(0, method='full', verbose=False, last=(100,))
print('\nThe returned array has the dimensions: ', data.shape)

I, V = d.get_series(0, method='average', verbose=False, last=(100,))

d.setup.make(**{'center': [516, 257], 'wavelength': 1.5, 'distance': 5})
qv_init = [(np.arange(0.025, 0.08, .01), .008),
           (.125, .02)]
phiv_init = [([10, 150], 30)]
d.defineqrois(I, qv_init=qv_init, plot=2, d=300,)# mirror=False,phiv_init=phiv_init,)
print(d.setup.qsec)

d.mksavdir('setupfiles', './')
d.savesetup('setup_100nm_test', handle_existing='w')

d = Xana(fmtstr='id10_eiger_single_edf', # format string that defines how data are read
         sample='100nm SiO2 particles in glycerol', # optional: sample name used in data base
         setupfile='./setupfiles/setup_100nm_test.pkl', # optional: 
         maskfile='./masks/mask_structure_03.npy') # file that conatains the blemish / mask 
                                                   # (optional: but necessary for analysis)

d.connect('./dukes100nm_glycerol/xpcs/exp320us_att0/')
print(d.meta)

d.mksavdir('test', './')

d.init_db()

print(d.setup.qsec)

d.analyze(0, 'saxs', verbose=True, last=20)
d.analyze(0, 'xpcs', verbose=True, twotime_par=1, nprocs=4, nread_procs=1)
d.analyze(0, 'xpcs_evt', verbose=True, nprocs=4, nread_procs=1)
d.analyze(0, 'xsvs', verbose=True, nbins=64, nprocs=4, nread_procs=1)


d = Xana(setupfile='./setupfiles/setup_100nm.pkl')
d.load_db('./100nm_glycerol/Analysis_db.pkl')


## ## SAXS
#
## In[ ]:
#
#
#from Xana.SaxsAna.Soq import Soq
#
#
## In[ ]:
#
#
#s = Soq(d)
#s.plot_soq([0,1,2], Ae=0,)
#
#
## ## XPCS
#
## In[4]:
#
#
#from Xana.XpcsAna.CorrFunc import CorrFunc
#
#
## In[6]:
#
#
## initializing CorrFunc instance
#g = CorrFunc(d)
#
## searching data base for xpcs measurements
#ind = d.db[(d.db['analysis'] == 'xpcs')
#          &(d.db['use'] == True)].index.values
#
##loading correlation functions
#g.get_g2(ind, merge='merge')
#
## plotting
#g.nq = np.arange(5)
#g.plot_g2(doplot='data_fit', color_mode=0, dofit=1, fix={}, init={'t0':(.02,0, None)}, 
#          fitglobal=['g0','beta'])
#
#
## In[132]:
#
#
#g.pars[0]
#
#
## In[ ]:
#
#
#d.db
#
#
## In[104]:
#
#
#d.discard_entry(3)
#
#
## In[97]:
#
#
#d.db['use'] = True
#
#
## In[ ]:
#
#
#g.rescale(normby='fit', norm_contrast=True, contrast=1, baseline=1)
#
#
## In[ ]:
#
#
#g.plot_g2(doplot='data_fit_legd', dofit=True, 
#          fix={'a':1, 'g0':1, 'beta':1},)# init={'beta':(1,0,1), 't0':(.01,None,None), 'g0':(1,None,None)})
#
#
## ## Eventcorrelator
#
## In[112]:
#
#
#ge = CorrFunc(d)
#ind = d.db[(d.db['analysis']=='xpcs_evt')
#          &(d.db['use'])].index.values
#ge.get_g2(ind, merge='merge')
#ge.nq = np.arange(5)
#ge.plot_g2(doplot='data_fit_legd', change_marker=1, markersize=5, alpha=.6, dofit=True, 
#          fix={'g0':1,}, mode='semilogx', color_mode=0)
#
#
## In[ ]:
#
#
#ge.rescale(normby='fit', norm_contrast=True, contrast=1, baseline=1)
#
#
## In[ ]:
#
#
#ge.plot_g2(doplot='data_fit_legd', change_marker=1, markersize=5, alpha=.6, dofit=True, 
#          fix={'g0':1,}, mode='semilogx', color_mode=0)
#
#
## ### Comparing results from pyxpcs and eventcorrelator
#
## In[113]:
#
#
#gs = g + ge
#
#
## In[135]:
#
#
#g.pars[0]
#
#
## In[134]:
#
#
#gs.plot_parameters(['G',], 
#                  modes=([1],[1],),
#                   alpha=(2,1,),
#                   fit=('line',''),
#                   fix=({'b':0}),
#                   R=50e-9, viscosity=1, 
#                   fit_report=1,);
#
#
## In[ ]:
#
#
#g.plot_trace(4)
#
#
## In[ ]:
#
#
#g.plot_twotime(4, interpolation='nearest',)
#
#
## ## XSVS
#
## In[118]:
#
#
#from Xana.XsvsAna.VisbFunc import VisbFunc
#
#
## In[119]:
#
#
## initializing Visibility Func instance
#v = VisbFunc(d)
#
## searching data base for xsvs results
#ind = d.db[(d.db['analysis']=='xsvs')
#          &(d.db['use'])].index.values
#
## loading probablities
#v.get_prob(ind, merge=True)
#
## calculating contrast
#v.calculate_contrast()
#
## plot histogram
#v.quicklook(plot=['pbb'], nq=np.arange(5), color_mode=0, ratio=0, cmap='tab10', alpha=0.2)  
#
#
## In[120]:
#
#
#v.quicklook(plot=['pbb','bvkb', 'kbvi', 'bvi', 'pkvkb', 'pbk'],
#                      idx=None, nq=np.arange(5), change_marker=0,
#                       color_mode=1, maxlen=np.inf, ratio=0, probk=2,
#                       cmap='tab10', lfs=8, total_counts=False, alpha=0.2)
#
