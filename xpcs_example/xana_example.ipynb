{
 "cells": [
  {
   "cell_type": "markdown",
   "metadata": {},
   "source": [
    "# Configure Notebook"
   ]
  },
  {
   "cell_type": "code",
   "execution_count": null,
   "metadata": {},
   "outputs": [],
   "source": [
    "%matplotlib notebook\n",
    "%pylab\n",
    "# %matplotlib inline\n",
    "%load_ext autoreload\n",
    "%autoreload 2\n",
    "%config InlineBackend.figure_format = 'retina'"
   ]
  },
  {
   "cell_type": "markdown",
   "metadata": {},
   "source": [
    "**Cloning Xana from GitLab**\n",
    "\n",
    "What you probably have just done."
   ]
  },
  {
   "cell_type": "code",
   "execution_count": null,
   "metadata": {},
   "outputs": [],
   "source": [
    "!git clone https://git.xfel.eu/gitlab/reiserm/Xana.git"
   ]
  },
  {
   "cell_type": "markdown",
   "metadata": {},
   "source": [
    "**unpacking example data**"
   ]
  },
  {
   "cell_type": "code",
   "execution_count": null,
   "metadata": {},
   "outputs": [],
   "source": [
    "!tar xzf ./xpcs_data.tgz"
   ]
  },
  {
   "cell_type": "markdown",
   "metadata": {},
   "source": [
    "**Importing Analysis Software - Xana**\n",
    "\n",
    "Working on _setup.py_. Later the Python-Path has not to be modified and Xana can just be imported."
   ]
  },
  {
   "cell_type": "code",
   "execution_count": null,
   "metadata": {},
   "outputs": [],
   "source": [
    "INSTALL_DIR = '../'\n",
    "\n",
    "import os, sys\n",
    "sys.path.append(os.path.expanduser(INSTALL_DIR + '/Xana'))"
   ]
  },
  {
   "cell_type": "markdown",
   "metadata": {},
   "source": [
    "## Importing Xana"
   ]
  },
  {
   "cell_type": "code",
   "execution_count": null,
   "metadata": {
    "scrolled": false
   },
   "outputs": [],
   "source": [
    "from Xana import Xana"
   ]
  },
  {
   "cell_type": "markdown",
   "metadata": {},
   "source": [
    "# Basic Example"
   ]
  },
  {
   "cell_type": "markdown",
   "metadata": {},
   "source": [
    "The example data folder contains three time series of 100nm (diameter) SiO2 nano particles dispersed in a glycerol water mixture. One data set shows indications of beam damage--the correlation functions are shifted to faster relaxation times. \n",
    "\n",
    "The task is to:\n",
    "* calculate correlation functions of all three data sets, \n",
    "* identify the _damaged_ data set\n",
    "* determine the viscosity of the solution"
   ]
  },
  {
   "cell_type": "markdown",
   "metadata": {},
   "source": [
    "### Creating A Setup File"
   ]
  },
  {
   "cell_type": "markdown",
   "metadata": {},
   "source": [
    "For each type of analysis a _setup_-file is needed, that contains information about the geometry (sample-detector distance, wavelength, etc.) but also about the ROIs where the analysis should be performed."
   ]
  },
  {
   "cell_type": "code",
   "execution_count": null,
   "metadata": {},
   "outputs": [],
   "source": [
    "d = Xana(fmtstr='id10_eiger_single_edf', # format string that defines how the date are read\n",
    "         sample='100nm SiO2 particles in glycerol', # optional: sample name used in data base\n",
    "         maskfile='./masks/mask_structure_03.npy') # file that conatains the blemish / mask \n",
    "                                                   # (optional: but necessary for analysis)"
   ]
  },
  {
   "cell_type": "markdown",
   "metadata": {},
   "source": [
    "Connecting Xana with a data folder allows for receiving meta data information on all data sets in that folder. "
   ]
  },
  {
   "cell_type": "code",
   "execution_count": null,
   "metadata": {},
   "outputs": [],
   "source": [
    "d.connect('./dukes100nm_glycerol/xpcs/exp320us_att0/')\n",
    "d.meta"
   ]
  },
  {
   "cell_type": "markdown",
   "metadata": {},
   "source": [
    "After the connection to a dataset&mdash;or a data folder with more than one dataset&mdash;has been established, the data can be accessed. In the most simple case, a 3D-array is returned (time x Pixel-X x Pixel-Y). For demonstration purposes, we read only the first 100 images by setting the last kwarg to (100,)."
   ]
  },
  {
   "cell_type": "code",
   "execution_count": null,
   "metadata": {},
   "outputs": [],
   "source": [
    "data = d.get_series(0, method='full', verbose=False, last=(100,))\n",
    "print('\\nThe returned array has the dimensions: ', data.shape)"
   ]
  },
  {
   "cell_type": "markdown",
   "metadata": {},
   "source": [
    "For setting the ROIs properly, it would be convenient to have a time averaged image. The command is the same except the method kwarg has been changed to _average_. Now the command will return a list containing the average intensities, I , and the variance over time, V."
   ]
  },
  {
   "cell_type": "code",
   "execution_count": null,
   "metadata": {
    "scrolled": true
   },
   "outputs": [],
   "source": [
    "I, V = d.get_series(0, method='average', verbose=False, last=(100,))"
   ]
  },
  {
   "cell_type": "markdown",
   "metadata": {},
   "source": [
    "Now the setup can be defined. If no dict is passed to _make_setup_, the user is asked for the specific arguments. The vector qv_init contains a list of tuples. Each tuple should have the q position (or an array of q positions) as first element and the q width as second argument.\n",
    "\n",
    "**defineqrois** needs an image, I, and the qv_init list as input parameters. The plot argument can [0,1,2], d can be between 10 and 100000. Try what happens when you play with those parameters. Try also to add the phiv_init kwarg (at the moment commented)."
   ]
  },
  {
   "cell_type": "code",
   "execution_count": null,
   "metadata": {},
   "outputs": [],
   "source": [
    "d.make_setup(**{'ctr': [516, 257], 'lambda': 1.5,\n",
    "                'pix_size': (75, 75), 'distance': 5})\n",
    "\n",
    "qv_init = [(np.arange(0.025, 0.08, .01), .008),\n",
    "           (.125, .02)]\n",
    "phiv_init = [([10, 150], 30)]\n",
    "\n",
    "d.defineqrois(I, qv_init=qv_init, plot=2, d=300,) # phiv_init=phiv_init,)"
   ]
  },
  {
   "cell_type": "markdown",
   "metadata": {},
   "source": [
    "If you are content with the setup&mdash;try to stick to the default values&mdash;you can save it. The maksavdir command creates a new subfolder _setupfiles_ in the folder specified by the second argument, here in the present folder ./ . Prefix and suffix are added automatically."
   ]
  },
  {
   "cell_type": "code",
   "execution_count": null,
   "metadata": {},
   "outputs": [],
   "source": [
    "d.mksavdir('setupfiles', './')\n",
    "d.save_setup('100nm')"
   ]
  },
  {
   "cell_type": "markdown",
   "metadata": {},
   "source": [
    "# Calculate Correlation Functions"
   ]
  },
  {
   "cell_type": "markdown",
   "metadata": {},
   "source": [
    "Now that we have a setup file, we can proceed with the actual analysis. The setup you created is already part of Xana now. If you start from this point, you can recreate the Xana object with the setupfile as a kwarg:"
   ]
  },
  {
   "cell_type": "code",
   "execution_count": null,
   "metadata": {},
   "outputs": [],
   "source": [
    "d = Xana(fmtstr='id10_eiger_single_edf', # format string that defines how the date are read\n",
    "         sample='100nm SiO2 particles in glycerol', # optional: sample name used in data base\n",
    "         setupfile='./setupfiles/setup_100nm.pkl', # optional: \n",
    "         maskfile='./masks/mask_structure_03.npy') # file that conatains the blemish / mask \n",
    "                                                   # (optional: but necessary for analysis)"
   ]
  },
  {
   "cell_type": "markdown",
   "metadata": {},
   "source": [
    "... or load the setupfile:"
   ]
  },
  {
   "cell_type": "code",
   "execution_count": null,
   "metadata": {},
   "outputs": [],
   "source": [
    "d.load_setup('/Users/reiserm/data/setupfiles/setup_100nm.pkl')"
   ]
  },
  {
   "cell_type": "code",
   "execution_count": null,
   "metadata": {},
   "outputs": [],
   "source": [
    "d.connect('./dukes100nm_glycerol/xpcs/exp320us_att0/')\n",
    "d.meta"
   ]
  },
  {
   "cell_type": "markdown",
   "metadata": {},
   "source": [
    "we need a new folder for the analysis. Again we can use the mksavdir command"
   ]
  },
  {
   "cell_type": "code",
   "execution_count": null,
   "metadata": {},
   "outputs": [],
   "source": [
    "d.mksavdir('100nm_glycerol', './')"
   ]
  },
  {
   "cell_type": "markdown",
   "metadata": {},
   "source": [
    "The results of the analysis are stored (pickled) as dictionaries containing all necessary information on the analysis. Additionally, a database entry is added in the analysis database. The default file is Analysis_db.pkl. If that file does not exist, the database has to be initialized **after** connecting with a dataset. That is because the columns of the database are taken from the meta data table."
   ]
  },
  {
   "cell_type": "code",
   "execution_count": null,
   "metadata": {},
   "outputs": [],
   "source": [
    "d.init_db()"
   ]
  },
  {
   "cell_type": "markdown",
   "metadata": {},
   "source": [
    "Different types of analysis can be performed as shown in the next cell. The command is allways analyze().\n",
    "* The first argument is the index of the meta data table and defines the series you want to analyze. -1 means that every series is analyzed (here index [0,1,2])\n",
    "* the second argument defines the type of analysis; **xpcs** uses pyxpcs, **xpcs_evt** uses the eventcorrelator\n",
    "* other kwargs are specific for that type of analysis"
   ]
  },
  {
   "cell_type": "code",
   "execution_count": null,
   "metadata": {
    "scrolled": true
   },
   "outputs": [],
   "source": [
    "d.analyze(-1, 'saxs', verbose=True,)\n",
    "d.analyze(-1, 'xpcs', verbose=True, twotime_par=1, nprocs=4, nread_procs=1)\n",
    "d.analyze(-1, 'xpcs_evt', verbose=True, nprocs=4, nread_procs=1)\n",
    "d.analyze(-1, 'xsvs', verbose=True, nbins=64, nprocs=4, nread_procs=1)"
   ]
  },
  {
   "cell_type": "markdown",
   "metadata": {},
   "source": [
    "# Data Interpretation"
   ]
  },
  {
   "cell_type": "markdown",
   "metadata": {},
   "source": [
    "For plotting the results we need an Xana object and to load the analysis database. The Xana instance is then passed to Soq, CorrFunc or VisbFunc for data visualization and fitting. But that is a story for another day..."
   ]
  },
  {
   "cell_type": "markdown",
   "metadata": {},
   "source": [
    "## Loading Data Base"
   ]
  },
  {
   "cell_type": "code",
   "execution_count": null,
   "metadata": {},
   "outputs": [],
   "source": [
    "d = Xana(setupfile='./setupfiles/setup_100nm.pkl',\n",
    "         maskfile='./masks/mask_structure_03.npy')\n",
    "d.load_db('./100nm_glycerol/Analysis_db.pkl')"
   ]
  },
  {
   "cell_type": "markdown",
   "metadata": {},
   "source": [
    "## SAXS"
   ]
  },
  {
   "cell_type": "code",
   "execution_count": null,
   "metadata": {},
   "outputs": [],
   "source": [
    "from SaxsAna.Soq import Soq"
   ]
  },
  {
   "cell_type": "code",
   "execution_count": null,
   "metadata": {
    "scrolled": false
   },
   "outputs": [],
   "source": [
    "s = Soq(d)\n",
    "s.plot_soq([0,1,3], Ae=0,)"
   ]
  },
  {
   "cell_type": "markdown",
   "metadata": {},
   "source": [
    "## XPCS"
   ]
  },
  {
   "cell_type": "code",
   "execution_count": null,
   "metadata": {},
   "outputs": [],
   "source": [
    "from XpcsAna.CorrFunc import CorrFunc"
   ]
  },
  {
   "cell_type": "code",
   "execution_count": null,
   "metadata": {
    "scrolled": false
   },
   "outputs": [],
   "source": [
    "# initializing CorrFunc instance\n",
    "g = CorrFunc(d)\n",
    "\n",
    "# searching data base for xpcs measurements\n",
    "ind = d.db[(d.db['analysis']=='xpcs')\n",
    "          &(d.db['use'])].index.values\n",
    "\n",
    "#loading correlation functions\n",
    "g.get_g2(ind,)\n",
    "\n",
    "# plotting\n",
    "g.nq = np.arange(3)\n",
    "g.plot_g2(doplot='data')"
   ]
  },
  {
   "cell_type": "code",
   "execution_count": null,
   "metadata": {},
   "outputs": [],
   "source": [
    "d.discard_entry(3)"
   ]
  },
  {
   "cell_type": "code",
   "execution_count": null,
   "metadata": {
    "scrolled": false
   },
   "outputs": [],
   "source": [
    "g = CorrFunc(d)\n",
    "ind = d.db[(d.db['analysis']=='xpcs')\n",
    "          &(d.db['use'])].index.values\n",
    "g.get_g2(ind, merge='merge')\n",
    "g.nq = np.arange(3)\n",
    "g.plot_g2(doplot='data_fit_legd', \n",
    "          change_marker=1, markersize=5, alpha=.6, # style options\n",
    "          fix={'g0':1,}, dofit=True,)"
   ]
  },
  {
   "cell_type": "code",
   "execution_count": null,
   "metadata": {},
   "outputs": [],
   "source": [
    "g.rescale(normby='fit', norm_contrast=True, contrast=1, baseline=0)"
   ]
  },
  {
   "cell_type": "code",
   "execution_count": null,
   "metadata": {
    "scrolled": false
   },
   "outputs": [],
   "source": [
    "g.plot_g2(doplot='data_fit_legd', change_marker=1, markersize=5, alpha=.6, dofit=True, \n",
    "          fix={'g0':1, },)# init={'beta':(1,0,1), 't0':(.01,None,None), 'g0':(1,None,None)})"
   ]
  },
  {
   "cell_type": "code",
   "execution_count": null,
   "metadata": {},
   "outputs": [],
   "source": [
    "ge = CorrFunc(d)\n",
    "ind = d.db[(d.db['analysis']=='xpcs_evt')\n",
    "          &(d.db['use'])].index.values\n",
    "ge.get_g2(ind, merge='merge')\n",
    "ge.nq = np.arange(1,2)\n",
    "ge.plot_g2(doplot='data_fit_legd', change_marker=1, markersize=5, alpha=.6, dofit=True, \n",
    "          fix={'g0':1,'beta':.21}, mode='semilogx', color_mode=0)"
   ]
  },
  {
   "cell_type": "code",
   "execution_count": null,
   "metadata": {},
   "outputs": [],
   "source": [
    "ge = CorrFunc(d)\n",
    "ind = d.db[(d.db['analysis']=='xpcs_evt')\n",
    "          &(d.db['use'])].index.values\n",
    "ge.get_g2(ind, merge='merge')\n",
    "# ge.nq = np.arange(3)\n",
    "ge.merge_g2list(resample=120)\n",
    "ge.rescale(normby='average', interval=(0,-20), weighted=False)\n",
    "ge.plot_g2(nq=np.arange(3), doplot='data_fit_legd', change_marker=1, markersize=5, alpha=.6, dofit=True, \n",
    "          fix={'g0':1, 'a':1}, mode='semilogx', color_mode=0, init={'t0':(0.02, None, None)})"
   ]
  },
  {
   "cell_type": "code",
   "execution_count": null,
   "metadata": {},
   "outputs": [],
   "source": [
    "gs = g + ge"
   ]
  },
  {
   "cell_type": "code",
   "execution_count": null,
   "metadata": {},
   "outputs": [],
   "source": [
    "gs.plot_parameters(['G', 'kww'], \n",
    "                  modes=([1],[1]),\n",
    "                   alpha=(2,1),\n",
    "                   fit=('lin',''),\n",
    "                   fix=({},{}),\n",
    "#                    log=('',''),\n",
    "        \n",
    "                   cmap='tab10', R=50e-9, viscosity=1, \n",
    "                   fit_report=False,);\n"
   ]
  },
  {
   "cell_type": "code",
   "execution_count": null,
   "metadata": {},
   "outputs": [],
   "source": [
    "g.plot_trace(4)"
   ]
  },
  {
   "cell_type": "code",
   "execution_count": null,
   "metadata": {},
   "outputs": [],
   "source": [
    "g.plot_twotime(4, interpolation='nearest',)"
   ]
  },
  {
   "cell_type": "markdown",
   "metadata": {},
   "source": [
    "## XSVS"
   ]
  },
  {
   "cell_type": "code",
   "execution_count": null,
   "metadata": {},
   "outputs": [],
   "source": [
    "from XsvsAna.VisbFunc import VisbFunc"
   ]
  },
  {
   "cell_type": "code",
   "execution_count": null,
   "metadata": {},
   "outputs": [],
   "source": [
    "# initializing Visibility Func instance\n",
    "v = VisbFunc(d)\n",
    "\n",
    "# searching data base for xsvs results\n",
    "ind = d.db[(d.db['analysis']=='xsvs')\n",
    "          &(d.db['use'])].index.values\n",
    "\n",
    "# loading probablities\n",
    "v.get_prob(ind, merge=True)\n",
    "\n",
    "# calculating contrast\n",
    "v.calculate_contrast()\n",
    "\n",
    "# plot histogram\n",
    "v.quicklook(plot=['pbb'], nq=np.arange(5), color_mode=0, ratio=0, cmap='tab10', alpha=0.2)  "
   ]
  },
  {
   "cell_type": "code",
   "execution_count": null,
   "metadata": {},
   "outputs": [],
   "source": [
    "v.quicklook(plot=['pbb','bvkb', 'kbvi', 'bvi', 'pkvkb', 'pbk'],\n",
    "                      idx=None, nq=np.arange(5), change_marker=0,\n",
    "                       color_mode=1, maxlen=np.inf, ratio=0, probk=2,\n",
    "                       cmap='tab10', lfs=8, total_counts=False, alpha=0.2)"
   ]
  },
  {
   "cell_type": "code",
   "execution_count": null,
   "metadata": {},
   "outputs": [],
   "source": []
  }
 ],
 "metadata": {
  "hide_input": false,
  "kernelspec": {
   "display_name": "Python [conda env:anaconda]",
   "language": "python",
   "name": "conda-env-anaconda-py"
  },
  "language_info": {
   "codemirror_mode": {
    "name": "ipython",
    "version": 3
   },
   "file_extension": ".py",
   "mimetype": "text/x-python",
   "name": "python",
   "nbconvert_exporter": "python",
   "pygments_lexer": "ipython3",
   "version": "3.6.6"
  },
  "toc": {
   "base_numbering": 1,
   "nav_menu": {},
   "number_sections": true,
   "sideBar": true,
   "skip_h1_title": false,
   "title_cell": "Table of Contents",
   "title_sidebar": "Contents",
   "toc_cell": false,
   "toc_position": {},
   "toc_section_display": true,
   "toc_window_display": true
  },
  "varInspector": {
   "cols": {
    "lenName": 16,
    "lenType": 16,
    "lenVar": 40
   },
   "kernels_config": {
    "python": {
     "delete_cmd_postfix": "",
     "delete_cmd_prefix": "del ",
     "library": "var_list.py",
     "varRefreshCmd": "print(var_dic_list())"
    },
    "r": {
     "delete_cmd_postfix": ") ",
     "delete_cmd_prefix": "rm(",
     "library": "var_list.r",
     "varRefreshCmd": "cat(var_dic_list()) "
    }
   },
   "position": {
    "height": "144px",
    "left": "1070px",
    "right": "20px",
    "top": "122px",
    "width": "350px"
   },
   "types_to_exclude": [
    "module",
    "function",
    "builtin_function_or_method",
    "instance",
    "_Feature"
   ],
   "window_display": false
  }
 },
 "nbformat": 4,
 "nbformat_minor": 2
}
